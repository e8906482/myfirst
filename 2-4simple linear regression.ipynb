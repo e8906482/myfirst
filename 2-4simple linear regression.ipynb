{
 "cells": [
  {
   "cell_type": "code",
   "execution_count": 1,
   "metadata": {
    "collapsed": true
   },
   "outputs": [],
   "source": [
    "import tensorflow as tf\n",
    "import numpy as np"
   ]
  },
  {
   "cell_type": "code",
   "execution_count": 3,
   "metadata": {},
   "outputs": [
    {
     "name": "stdout",
     "output_type": "stream",
     "text": [
      "0 [0.054807562, 0.10040861]\n",
      "20 [0.1041152, 0.19774254]\n",
      "40 [0.10233423, 0.19871956]\n",
      "60 [0.10132403, 0.19927371]\n",
      "80 [0.10075101, 0.19958803]\n",
      "100 [0.10042598, 0.19976632]\n",
      "120 [0.10024161, 0.19986747]\n",
      "140 [0.10013703, 0.19992483]\n",
      "160 [0.10007773, 0.19995736]\n",
      "180 [0.10004409, 0.19997582]\n",
      "200 [0.10002502, 0.19998628]\n",
      "220 [0.10001418, 0.19999222]\n",
      "240 [0.10000803, 0.19999559]\n",
      "260 [0.10000456, 0.1999975]\n",
      "280 [0.1000026, 0.19999857]\n",
      "300 [0.10000148, 0.19999918]\n",
      "320 [0.10000087, 0.19999953]\n",
      "340 [0.10000049, 0.19999973]\n",
      "360 [0.10000028, 0.19999984]\n",
      "380 [0.1000002, 0.19999988]\n",
      "400 [0.1000002, 0.19999988]\n"
     ]
    }
   ],
   "source": [
    "#create 100 random points by numpy\n",
    "x_data = np.random.rand(100)\n",
    "#create a linear model, k=0.1 is slope, b=0.2 is bias\n",
    "y_data = x_data*0.1 + 0.2\n",
    "\n",
    "#create a linear model\n",
    "b = tf.Variable(0.)\n",
    "k = tf.Variable(0.)\n",
    "y = k*x_data + b\n",
    "\n",
    "#define cost function\n",
    "loss = tf.reduce_mean(tf.square(y_data-y))\n",
    "#create an optimizer based on GradientDescentOptimizer\n",
    "optimizer = tf.train.GradientDescentOptimizer(0.2) #0.2 is learning rate\n",
    "#minimize loss function\n",
    "train = optimizer.minimize(loss)\n",
    "#initialize all global variables\n",
    "init = tf.global_variables_initializer()\n",
    "\n",
    "\n",
    "with tf.Session() as sess:\n",
    "    sess.run(init)\n",
    "    for step in range(401):\n",
    "        sess.run(train)\n",
    "        if step % 20 == 0:\n",
    "            print(step,sess.run([k,b]))\n",
    "\n"
   ]
  },
  {
   "cell_type": "code",
   "execution_count": null,
   "metadata": {
    "collapsed": true
   },
   "outputs": [],
   "source": []
  }
 ],
 "metadata": {
  "kernelspec": {
   "display_name": "Python 3",
   "language": "python",
   "name": "python3"
  },
  "language_info": {
   "codemirror_mode": {
    "name": "ipython",
    "version": 3
   },
   "file_extension": ".py",
   "mimetype": "text/x-python",
   "name": "python",
   "nbconvert_exporter": "python",
   "pygments_lexer": "ipython3",
   "version": "3.6.3"
  }
 },
 "nbformat": 4,
 "nbformat_minor": 2
}
